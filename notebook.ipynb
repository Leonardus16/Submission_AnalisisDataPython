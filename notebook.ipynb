{
 "cells": [
  {
   "cell_type": "code",
   "execution_count": 1,
   "metadata": {},
   "outputs": [],
   "source": [
    "import pandas as pd\n",
    "import numpy as np\n",
    "import matplotlib.pyplot as plt\n",
    "import seaborn as sns\n",
    "import plotly.express as px\n",
    "import plotly.graph_objects as go\n",
    "from datetime import datetime\n",
    "import warnings\n",
    "warnings.filterwarnings('ignore')"
   ]
  },
  {
   "cell_type": "markdown",
   "metadata": {},
   "source": [
    "# Analisis Data Bike Sharing: Studi Pola Penggunaan Sepeda\n",
    "\n",
    "Proyek ini bertujuan untuk menganalisis pola penggunaan sepeda menggunakan **Bike Sharing Dataset** yang bersumber dari Kaggle. Analisis ini mencakup eksplorasi mendalam terhadap faktor-faktor yang memengaruhi penyewaan sepeda, dengan fokus pada dua pertanyaan bisnis utama:\n",
    "\n",
    "1. **Bagaimana kondisi cuaca memengaruhi jumlah penyewaan sepeda?**  \n",
    "   - Tujuan: Memahami hubungan antara variabel cuaca dan tingkat penggunaan sepeda untuk mendukung pengambilan keputusan operasional.\n",
    "2. **Bagaimana pola penggunaan sepeda berdasarkan hari dalam seminggu dan jam?**  \n",
    "   - Tujuan: Mengidentifikasi waktu puncak penyewaan untuk optimalisasi distribusi sepeda.\n",
    "\n",
    "Dataset ini mencakup data harian (`day.csv`) dan per jam (`hour.csv`) dari sistem penyewaan sepeda di Washington D.C. selama dua tahun (2011-2012)."
   ]
  },
  {
   "cell_type": "code",
   "execution_count": 3,
   "metadata": {},
   "outputs": [
    {
     "name": "stdout",
     "output_type": "stream",
     "text": [
      "Pratinjau Data Harian (5 Baris Pertama):\n"
     ]
    },
    {
     "data": {
      "text/html": [
       "<div>\n",
       "<style scoped>\n",
       "    .dataframe tbody tr th:only-of-type {\n",
       "        vertical-align: middle;\n",
       "    }\n",
       "\n",
       "    .dataframe tbody tr th {\n",
       "        vertical-align: top;\n",
       "    }\n",
       "\n",
       "    .dataframe thead th {\n",
       "        text-align: right;\n",
       "    }\n",
       "</style>\n",
       "<table border=\"1\" class=\"dataframe\">\n",
       "  <thead>\n",
       "    <tr style=\"text-align: right;\">\n",
       "      <th></th>\n",
       "      <th>instant</th>\n",
       "      <th>dteday</th>\n",
       "      <th>season</th>\n",
       "      <th>yr</th>\n",
       "      <th>mnth</th>\n",
       "      <th>holiday</th>\n",
       "      <th>weekday</th>\n",
       "      <th>workingday</th>\n",
       "      <th>weathersit</th>\n",
       "      <th>temp</th>\n",
       "      <th>atemp</th>\n",
       "      <th>hum</th>\n",
       "      <th>windspeed</th>\n",
       "      <th>casual</th>\n",
       "      <th>registered</th>\n",
       "      <th>cnt</th>\n",
       "    </tr>\n",
       "  </thead>\n",
       "  <tbody>\n",
       "    <tr>\n",
       "      <th>0</th>\n",
       "      <td>1</td>\n",
       "      <td>2011-01-01</td>\n",
       "      <td>1</td>\n",
       "      <td>0</td>\n",
       "      <td>1</td>\n",
       "      <td>0</td>\n",
       "      <td>6</td>\n",
       "      <td>0</td>\n",
       "      <td>2</td>\n",
       "      <td>0.344167</td>\n",
       "      <td>0.363625</td>\n",
       "      <td>0.805833</td>\n",
       "      <td>0.160446</td>\n",
       "      <td>331</td>\n",
       "      <td>654</td>\n",
       "      <td>985</td>\n",
       "    </tr>\n",
       "    <tr>\n",
       "      <th>1</th>\n",
       "      <td>2</td>\n",
       "      <td>2011-01-02</td>\n",
       "      <td>1</td>\n",
       "      <td>0</td>\n",
       "      <td>1</td>\n",
       "      <td>0</td>\n",
       "      <td>0</td>\n",
       "      <td>0</td>\n",
       "      <td>2</td>\n",
       "      <td>0.363478</td>\n",
       "      <td>0.353739</td>\n",
       "      <td>0.696087</td>\n",
       "      <td>0.248539</td>\n",
       "      <td>131</td>\n",
       "      <td>670</td>\n",
       "      <td>801</td>\n",
       "    </tr>\n",
       "    <tr>\n",
       "      <th>2</th>\n",
       "      <td>3</td>\n",
       "      <td>2011-01-03</td>\n",
       "      <td>1</td>\n",
       "      <td>0</td>\n",
       "      <td>1</td>\n",
       "      <td>0</td>\n",
       "      <td>1</td>\n",
       "      <td>1</td>\n",
       "      <td>1</td>\n",
       "      <td>0.196364</td>\n",
       "      <td>0.189405</td>\n",
       "      <td>0.437273</td>\n",
       "      <td>0.248309</td>\n",
       "      <td>120</td>\n",
       "      <td>1229</td>\n",
       "      <td>1349</td>\n",
       "    </tr>\n",
       "    <tr>\n",
       "      <th>3</th>\n",
       "      <td>4</td>\n",
       "      <td>2011-01-04</td>\n",
       "      <td>1</td>\n",
       "      <td>0</td>\n",
       "      <td>1</td>\n",
       "      <td>0</td>\n",
       "      <td>2</td>\n",
       "      <td>1</td>\n",
       "      <td>1</td>\n",
       "      <td>0.200000</td>\n",
       "      <td>0.212122</td>\n",
       "      <td>0.590435</td>\n",
       "      <td>0.160296</td>\n",
       "      <td>108</td>\n",
       "      <td>1454</td>\n",
       "      <td>1562</td>\n",
       "    </tr>\n",
       "    <tr>\n",
       "      <th>4</th>\n",
       "      <td>5</td>\n",
       "      <td>2011-01-05</td>\n",
       "      <td>1</td>\n",
       "      <td>0</td>\n",
       "      <td>1</td>\n",
       "      <td>0</td>\n",
       "      <td>3</td>\n",
       "      <td>1</td>\n",
       "      <td>1</td>\n",
       "      <td>0.226957</td>\n",
       "      <td>0.229270</td>\n",
       "      <td>0.436957</td>\n",
       "      <td>0.186900</td>\n",
       "      <td>82</td>\n",
       "      <td>1518</td>\n",
       "      <td>1600</td>\n",
       "    </tr>\n",
       "  </tbody>\n",
       "</table>\n",
       "</div>"
      ],
      "text/plain": [
       "   instant      dteday  season  yr  mnth  holiday  weekday  workingday  \\\n",
       "0        1  2011-01-01       1   0     1        0        6           0   \n",
       "1        2  2011-01-02       1   0     1        0        0           0   \n",
       "2        3  2011-01-03       1   0     1        0        1           1   \n",
       "3        4  2011-01-04       1   0     1        0        2           1   \n",
       "4        5  2011-01-05       1   0     1        0        3           1   \n",
       "\n",
       "   weathersit      temp     atemp       hum  windspeed  casual  registered  \\\n",
       "0           2  0.344167  0.363625  0.805833   0.160446     331         654   \n",
       "1           2  0.363478  0.353739  0.696087   0.248539     131         670   \n",
       "2           1  0.196364  0.189405  0.437273   0.248309     120        1229   \n",
       "3           1  0.200000  0.212122  0.590435   0.160296     108        1454   \n",
       "4           1  0.226957  0.229270  0.436957   0.186900      82        1518   \n",
       "\n",
       "    cnt  \n",
       "0   985  \n",
       "1   801  \n",
       "2  1349  \n",
       "3  1562  \n",
       "4  1600  "
      ]
     },
     "metadata": {},
     "output_type": "display_data"
    },
    {
     "name": "stdout",
     "output_type": "stream",
     "text": [
      "\n",
      "Pratinjau Data Per Jam (5 Baris Pertama):\n"
     ]
    },
    {
     "data": {
      "text/html": [
       "<div>\n",
       "<style scoped>\n",
       "    .dataframe tbody tr th:only-of-type {\n",
       "        vertical-align: middle;\n",
       "    }\n",
       "\n",
       "    .dataframe tbody tr th {\n",
       "        vertical-align: top;\n",
       "    }\n",
       "\n",
       "    .dataframe thead th {\n",
       "        text-align: right;\n",
       "    }\n",
       "</style>\n",
       "<table border=\"1\" class=\"dataframe\">\n",
       "  <thead>\n",
       "    <tr style=\"text-align: right;\">\n",
       "      <th></th>\n",
       "      <th>instant</th>\n",
       "      <th>dteday</th>\n",
       "      <th>season</th>\n",
       "      <th>yr</th>\n",
       "      <th>mnth</th>\n",
       "      <th>hr</th>\n",
       "      <th>holiday</th>\n",
       "      <th>weekday</th>\n",
       "      <th>workingday</th>\n",
       "      <th>weathersit</th>\n",
       "      <th>temp</th>\n",
       "      <th>atemp</th>\n",
       "      <th>hum</th>\n",
       "      <th>windspeed</th>\n",
       "      <th>casual</th>\n",
       "      <th>registered</th>\n",
       "      <th>cnt</th>\n",
       "    </tr>\n",
       "  </thead>\n",
       "  <tbody>\n",
       "    <tr>\n",
       "      <th>0</th>\n",
       "      <td>1</td>\n",
       "      <td>2011-01-01</td>\n",
       "      <td>1</td>\n",
       "      <td>0</td>\n",
       "      <td>1</td>\n",
       "      <td>0</td>\n",
       "      <td>0</td>\n",
       "      <td>6</td>\n",
       "      <td>0</td>\n",
       "      <td>1</td>\n",
       "      <td>0.24</td>\n",
       "      <td>0.2879</td>\n",
       "      <td>0.81</td>\n",
       "      <td>0.0</td>\n",
       "      <td>3</td>\n",
       "      <td>13</td>\n",
       "      <td>16</td>\n",
       "    </tr>\n",
       "    <tr>\n",
       "      <th>1</th>\n",
       "      <td>2</td>\n",
       "      <td>2011-01-01</td>\n",
       "      <td>1</td>\n",
       "      <td>0</td>\n",
       "      <td>1</td>\n",
       "      <td>1</td>\n",
       "      <td>0</td>\n",
       "      <td>6</td>\n",
       "      <td>0</td>\n",
       "      <td>1</td>\n",
       "      <td>0.22</td>\n",
       "      <td>0.2727</td>\n",
       "      <td>0.80</td>\n",
       "      <td>0.0</td>\n",
       "      <td>8</td>\n",
       "      <td>32</td>\n",
       "      <td>40</td>\n",
       "    </tr>\n",
       "    <tr>\n",
       "      <th>2</th>\n",
       "      <td>3</td>\n",
       "      <td>2011-01-01</td>\n",
       "      <td>1</td>\n",
       "      <td>0</td>\n",
       "      <td>1</td>\n",
       "      <td>2</td>\n",
       "      <td>0</td>\n",
       "      <td>6</td>\n",
       "      <td>0</td>\n",
       "      <td>1</td>\n",
       "      <td>0.22</td>\n",
       "      <td>0.2727</td>\n",
       "      <td>0.80</td>\n",
       "      <td>0.0</td>\n",
       "      <td>5</td>\n",
       "      <td>27</td>\n",
       "      <td>32</td>\n",
       "    </tr>\n",
       "    <tr>\n",
       "      <th>3</th>\n",
       "      <td>4</td>\n",
       "      <td>2011-01-01</td>\n",
       "      <td>1</td>\n",
       "      <td>0</td>\n",
       "      <td>1</td>\n",
       "      <td>3</td>\n",
       "      <td>0</td>\n",
       "      <td>6</td>\n",
       "      <td>0</td>\n",
       "      <td>1</td>\n",
       "      <td>0.24</td>\n",
       "      <td>0.2879</td>\n",
       "      <td>0.75</td>\n",
       "      <td>0.0</td>\n",
       "      <td>3</td>\n",
       "      <td>10</td>\n",
       "      <td>13</td>\n",
       "    </tr>\n",
       "    <tr>\n",
       "      <th>4</th>\n",
       "      <td>5</td>\n",
       "      <td>2011-01-01</td>\n",
       "      <td>1</td>\n",
       "      <td>0</td>\n",
       "      <td>1</td>\n",
       "      <td>4</td>\n",
       "      <td>0</td>\n",
       "      <td>6</td>\n",
       "      <td>0</td>\n",
       "      <td>1</td>\n",
       "      <td>0.24</td>\n",
       "      <td>0.2879</td>\n",
       "      <td>0.75</td>\n",
       "      <td>0.0</td>\n",
       "      <td>0</td>\n",
       "      <td>1</td>\n",
       "      <td>1</td>\n",
       "    </tr>\n",
       "  </tbody>\n",
       "</table>\n",
       "</div>"
      ],
      "text/plain": [
       "   instant      dteday  season  yr  mnth  hr  holiday  weekday  workingday  \\\n",
       "0        1  2011-01-01       1   0     1   0        0        6           0   \n",
       "1        2  2011-01-01       1   0     1   1        0        6           0   \n",
       "2        3  2011-01-01       1   0     1   2        0        6           0   \n",
       "3        4  2011-01-01       1   0     1   3        0        6           0   \n",
       "4        5  2011-01-01       1   0     1   4        0        6           0   \n",
       "\n",
       "   weathersit  temp   atemp   hum  windspeed  casual  registered  cnt  \n",
       "0           1  0.24  0.2879  0.81        0.0       3          13   16  \n",
       "1           1  0.22  0.2727  0.80        0.0       8          32   40  \n",
       "2           1  0.22  0.2727  0.80        0.0       5          27   32  \n",
       "3           1  0.24  0.2879  0.75        0.0       3          10   13  \n",
       "4           1  0.24  0.2879  0.75        0.0       0           1    1  "
      ]
     },
     "metadata": {},
     "output_type": "display_data"
    },
    {
     "name": "stdout",
     "output_type": "stream",
     "text": [
      "\n",
      "Statistik Deskriptif Data Harian:\n"
     ]
    },
    {
     "data": {
      "text/html": [
       "<div>\n",
       "<style scoped>\n",
       "    .dataframe tbody tr th:only-of-type {\n",
       "        vertical-align: middle;\n",
       "    }\n",
       "\n",
       "    .dataframe tbody tr th {\n",
       "        vertical-align: top;\n",
       "    }\n",
       "\n",
       "    .dataframe thead th {\n",
       "        text-align: right;\n",
       "    }\n",
       "</style>\n",
       "<table border=\"1\" class=\"dataframe\">\n",
       "  <thead>\n",
       "    <tr style=\"text-align: right;\">\n",
       "      <th></th>\n",
       "      <th>instant</th>\n",
       "      <th>season</th>\n",
       "      <th>yr</th>\n",
       "      <th>mnth</th>\n",
       "      <th>holiday</th>\n",
       "      <th>weekday</th>\n",
       "      <th>workingday</th>\n",
       "      <th>weathersit</th>\n",
       "      <th>temp</th>\n",
       "      <th>atemp</th>\n",
       "      <th>hum</th>\n",
       "      <th>windspeed</th>\n",
       "      <th>casual</th>\n",
       "      <th>registered</th>\n",
       "      <th>cnt</th>\n",
       "    </tr>\n",
       "  </thead>\n",
       "  <tbody>\n",
       "    <tr>\n",
       "      <th>count</th>\n",
       "      <td>731.000000</td>\n",
       "      <td>731.000000</td>\n",
       "      <td>731.000000</td>\n",
       "      <td>731.000000</td>\n",
       "      <td>731.000000</td>\n",
       "      <td>731.000000</td>\n",
       "      <td>731.000000</td>\n",
       "      <td>731.000000</td>\n",
       "      <td>731.000000</td>\n",
       "      <td>731.000000</td>\n",
       "      <td>731.000000</td>\n",
       "      <td>731.000000</td>\n",
       "      <td>731.000000</td>\n",
       "      <td>731.000000</td>\n",
       "      <td>731.000000</td>\n",
       "    </tr>\n",
       "    <tr>\n",
       "      <th>mean</th>\n",
       "      <td>366.000000</td>\n",
       "      <td>2.496580</td>\n",
       "      <td>0.500684</td>\n",
       "      <td>6.519836</td>\n",
       "      <td>0.028728</td>\n",
       "      <td>2.997264</td>\n",
       "      <td>0.683995</td>\n",
       "      <td>1.395349</td>\n",
       "      <td>0.495385</td>\n",
       "      <td>0.474354</td>\n",
       "      <td>0.627894</td>\n",
       "      <td>0.190486</td>\n",
       "      <td>848.176471</td>\n",
       "      <td>3656.172367</td>\n",
       "      <td>4504.348837</td>\n",
       "    </tr>\n",
       "    <tr>\n",
       "      <th>std</th>\n",
       "      <td>211.165812</td>\n",
       "      <td>1.110807</td>\n",
       "      <td>0.500342</td>\n",
       "      <td>3.451913</td>\n",
       "      <td>0.167155</td>\n",
       "      <td>2.004787</td>\n",
       "      <td>0.465233</td>\n",
       "      <td>0.544894</td>\n",
       "      <td>0.183051</td>\n",
       "      <td>0.162961</td>\n",
       "      <td>0.142429</td>\n",
       "      <td>0.077498</td>\n",
       "      <td>686.622488</td>\n",
       "      <td>1560.256377</td>\n",
       "      <td>1937.211452</td>\n",
       "    </tr>\n",
       "    <tr>\n",
       "      <th>min</th>\n",
       "      <td>1.000000</td>\n",
       "      <td>1.000000</td>\n",
       "      <td>0.000000</td>\n",
       "      <td>1.000000</td>\n",
       "      <td>0.000000</td>\n",
       "      <td>0.000000</td>\n",
       "      <td>0.000000</td>\n",
       "      <td>1.000000</td>\n",
       "      <td>0.059130</td>\n",
       "      <td>0.079070</td>\n",
       "      <td>0.000000</td>\n",
       "      <td>0.022392</td>\n",
       "      <td>2.000000</td>\n",
       "      <td>20.000000</td>\n",
       "      <td>22.000000</td>\n",
       "    </tr>\n",
       "    <tr>\n",
       "      <th>25%</th>\n",
       "      <td>183.500000</td>\n",
       "      <td>2.000000</td>\n",
       "      <td>0.000000</td>\n",
       "      <td>4.000000</td>\n",
       "      <td>0.000000</td>\n",
       "      <td>1.000000</td>\n",
       "      <td>0.000000</td>\n",
       "      <td>1.000000</td>\n",
       "      <td>0.337083</td>\n",
       "      <td>0.337842</td>\n",
       "      <td>0.520000</td>\n",
       "      <td>0.134950</td>\n",
       "      <td>315.500000</td>\n",
       "      <td>2497.000000</td>\n",
       "      <td>3152.000000</td>\n",
       "    </tr>\n",
       "    <tr>\n",
       "      <th>50%</th>\n",
       "      <td>366.000000</td>\n",
       "      <td>3.000000</td>\n",
       "      <td>1.000000</td>\n",
       "      <td>7.000000</td>\n",
       "      <td>0.000000</td>\n",
       "      <td>3.000000</td>\n",
       "      <td>1.000000</td>\n",
       "      <td>1.000000</td>\n",
       "      <td>0.498333</td>\n",
       "      <td>0.486733</td>\n",
       "      <td>0.626667</td>\n",
       "      <td>0.180975</td>\n",
       "      <td>713.000000</td>\n",
       "      <td>3662.000000</td>\n",
       "      <td>4548.000000</td>\n",
       "    </tr>\n",
       "    <tr>\n",
       "      <th>75%</th>\n",
       "      <td>548.500000</td>\n",
       "      <td>3.000000</td>\n",
       "      <td>1.000000</td>\n",
       "      <td>10.000000</td>\n",
       "      <td>0.000000</td>\n",
       "      <td>5.000000</td>\n",
       "      <td>1.000000</td>\n",
       "      <td>2.000000</td>\n",
       "      <td>0.655417</td>\n",
       "      <td>0.608602</td>\n",
       "      <td>0.730209</td>\n",
       "      <td>0.233214</td>\n",
       "      <td>1096.000000</td>\n",
       "      <td>4776.500000</td>\n",
       "      <td>5956.000000</td>\n",
       "    </tr>\n",
       "    <tr>\n",
       "      <th>max</th>\n",
       "      <td>731.000000</td>\n",
       "      <td>4.000000</td>\n",
       "      <td>1.000000</td>\n",
       "      <td>12.000000</td>\n",
       "      <td>1.000000</td>\n",
       "      <td>6.000000</td>\n",
       "      <td>1.000000</td>\n",
       "      <td>3.000000</td>\n",
       "      <td>0.861667</td>\n",
       "      <td>0.840896</td>\n",
       "      <td>0.972500</td>\n",
       "      <td>0.507463</td>\n",
       "      <td>3410.000000</td>\n",
       "      <td>6946.000000</td>\n",
       "      <td>8714.000000</td>\n",
       "    </tr>\n",
       "  </tbody>\n",
       "</table>\n",
       "</div>"
      ],
      "text/plain": [
       "          instant      season          yr        mnth     holiday     weekday  \\\n",
       "count  731.000000  731.000000  731.000000  731.000000  731.000000  731.000000   \n",
       "mean   366.000000    2.496580    0.500684    6.519836    0.028728    2.997264   \n",
       "std    211.165812    1.110807    0.500342    3.451913    0.167155    2.004787   \n",
       "min      1.000000    1.000000    0.000000    1.000000    0.000000    0.000000   \n",
       "25%    183.500000    2.000000    0.000000    4.000000    0.000000    1.000000   \n",
       "50%    366.000000    3.000000    1.000000    7.000000    0.000000    3.000000   \n",
       "75%    548.500000    3.000000    1.000000   10.000000    0.000000    5.000000   \n",
       "max    731.000000    4.000000    1.000000   12.000000    1.000000    6.000000   \n",
       "\n",
       "       workingday  weathersit        temp       atemp         hum   windspeed  \\\n",
       "count  731.000000  731.000000  731.000000  731.000000  731.000000  731.000000   \n",
       "mean     0.683995    1.395349    0.495385    0.474354    0.627894    0.190486   \n",
       "std      0.465233    0.544894    0.183051    0.162961    0.142429    0.077498   \n",
       "min      0.000000    1.000000    0.059130    0.079070    0.000000    0.022392   \n",
       "25%      0.000000    1.000000    0.337083    0.337842    0.520000    0.134950   \n",
       "50%      1.000000    1.000000    0.498333    0.486733    0.626667    0.180975   \n",
       "75%      1.000000    2.000000    0.655417    0.608602    0.730209    0.233214   \n",
       "max      1.000000    3.000000    0.861667    0.840896    0.972500    0.507463   \n",
       "\n",
       "            casual   registered          cnt  \n",
       "count   731.000000   731.000000   731.000000  \n",
       "mean    848.176471  3656.172367  4504.348837  \n",
       "std     686.622488  1560.256377  1937.211452  \n",
       "min       2.000000    20.000000    22.000000  \n",
       "25%     315.500000  2497.000000  3152.000000  \n",
       "50%     713.000000  3662.000000  4548.000000  \n",
       "75%    1096.000000  4776.500000  5956.000000  \n",
       "max    3410.000000  6946.000000  8714.000000  "
      ]
     },
     "metadata": {},
     "output_type": "display_data"
    }
   ],
   "source": [
    "# Memuat dataset\n",
    "day_df = pd.read_csv(\"/Users/Luthfi/Downloads/Analisis Data Dengan Python/data/day.csv\")\n",
    "hour_df = pd.read_csv(\"/Users/Luthfi/Downloads/Analisis Data Dengan Python/data/hour.csv\")\n",
    "\n",
    "# Menampilkan pratinjau data\n",
    "print(\"Pratinjau Data Harian (5 Baris Pertama):\")\n",
    "display(day_df.head())\n",
    "print(\"\\nPratinjau Data Per Jam (5 Baris Pertama):\")\n",
    "display(hour_df.head())\n",
    "\n",
    "# Statistik deskriptif awal\n",
    "print(\"\\nStatistik Deskriptif Data Harian:\")\n",
    "display(day_df.describe())"
   ]
  },
  {
   "cell_type": "markdown",
   "metadata": {},
   "source": [
    "## Data Wrangling\n",
    "\n",
    "Tahap ini melibatkan proses pembersihan, validasi, dan transformasi data untuk memastikan kualitas dataset sebelum analisis lebih lanjut. Langkah-langkah yang dilakukan:\n",
    "1. Pemeriksaan integritas data (missing values, duplikat, tipe data).\n",
    "2. Transformasi kolom untuk memudahkan analisis (konversi tanggal, mapping kategori).\n",
    "3. Penambahan fitur baru untuk mendukung eksplorasi."
   ]
  },
  {
   "cell_type": "code",
   "execution_count": 4,
   "metadata": {},
   "outputs": [
    {
     "name": "stdout",
     "output_type": "stream",
     "text": [
      "Informasi Struktur Data Harian:\n",
      "<class 'pandas.core.frame.DataFrame'>\n",
      "RangeIndex: 731 entries, 0 to 730\n",
      "Data columns (total 16 columns):\n",
      " #   Column      Non-Null Count  Dtype  \n",
      "---  ------      --------------  -----  \n",
      " 0   instant     731 non-null    int64  \n",
      " 1   dteday      731 non-null    object \n",
      " 2   season      731 non-null    int64  \n",
      " 3   yr          731 non-null    int64  \n",
      " 4   mnth        731 non-null    int64  \n",
      " 5   holiday     731 non-null    int64  \n",
      " 6   weekday     731 non-null    int64  \n",
      " 7   workingday  731 non-null    int64  \n",
      " 8   weathersit  731 non-null    int64  \n",
      " 9   temp        731 non-null    float64\n",
      " 10  atemp       731 non-null    float64\n",
      " 11  hum         731 non-null    float64\n",
      " 12  windspeed   731 non-null    float64\n",
      " 13  casual      731 non-null    int64  \n",
      " 14  registered  731 non-null    int64  \n",
      " 15  cnt         731 non-null    int64  \n",
      "dtypes: float64(4), int64(11), object(1)\n",
      "memory usage: 91.5+ KB\n",
      "None\n",
      "\n",
      "Nilai Hilang (Missing Values):\n",
      "instant       0\n",
      "dteday        0\n",
      "season        0\n",
      "yr            0\n",
      "mnth          0\n",
      "holiday       0\n",
      "weekday       0\n",
      "workingday    0\n",
      "weathersit    0\n",
      "temp          0\n",
      "atemp         0\n",
      "hum           0\n",
      "windspeed     0\n",
      "casual        0\n",
      "registered    0\n",
      "cnt           0\n",
      "dtype: int64\n",
      "\n",
      "Jumlah Duplikat:\n",
      "0\n",
      "\n",
      "Rentang Tanggal Data Harian:\n",
      "Min: 2011-01-01, Max: 2012-12-31\n"
     ]
    }
   ],
   "source": [
    "# Pemeriksaan tipe data dan info dataset\n",
    "print(\"Informasi Struktur Data Harian:\")\n",
    "print(day_df.info())\n",
    "print(\"\\nNilai Hilang (Missing Values):\")\n",
    "print(day_df.isnull().sum())\n",
    "print(\"\\nJumlah Duplikat:\")\n",
    "print(day_df.duplicated().sum())\n",
    "\n",
    "# Validasi konsistensi data\n",
    "print(\"\\nRentang Tanggal Data Harian:\")\n",
    "print(f\"Min: {day_df['dteday'].min()}, Max: {day_df['dteday'].max()}\")"
   ]
  },
  {
   "cell_type": "code",
   "execution_count": 5,
   "metadata": {},
   "outputs": [
    {
     "name": "stdout",
     "output_type": "stream",
     "text": [
      "Data Harian Setelah Transformasi:\n"
     ]
    },
    {
     "data": {
      "text/html": [
       "<div>\n",
       "<style scoped>\n",
       "    .dataframe tbody tr th:only-of-type {\n",
       "        vertical-align: middle;\n",
       "    }\n",
       "\n",
       "    .dataframe tbody tr th {\n",
       "        vertical-align: top;\n",
       "    }\n",
       "\n",
       "    .dataframe thead th {\n",
       "        text-align: right;\n",
       "    }\n",
       "</style>\n",
       "<table border=\"1\" class=\"dataframe\">\n",
       "  <thead>\n",
       "    <tr style=\"text-align: right;\">\n",
       "      <th></th>\n",
       "      <th>dteday</th>\n",
       "      <th>weathersit</th>\n",
       "      <th>weekday_name</th>\n",
       "      <th>season_name</th>\n",
       "      <th>temp_celsius</th>\n",
       "    </tr>\n",
       "  </thead>\n",
       "  <tbody>\n",
       "    <tr>\n",
       "      <th>0</th>\n",
       "      <td>2011-01-01</td>\n",
       "      <td>Berawan</td>\n",
       "      <td>Saturday</td>\n",
       "      <td>Musim Dingin</td>\n",
       "      <td>14.110847</td>\n",
       "    </tr>\n",
       "    <tr>\n",
       "      <th>1</th>\n",
       "      <td>2011-01-02</td>\n",
       "      <td>Berawan</td>\n",
       "      <td>Sunday</td>\n",
       "      <td>Musim Dingin</td>\n",
       "      <td>14.902598</td>\n",
       "    </tr>\n",
       "    <tr>\n",
       "      <th>2</th>\n",
       "      <td>2011-01-03</td>\n",
       "      <td>Cerah</td>\n",
       "      <td>Monday</td>\n",
       "      <td>Musim Dingin</td>\n",
       "      <td>8.050924</td>\n",
       "    </tr>\n",
       "    <tr>\n",
       "      <th>3</th>\n",
       "      <td>2011-01-04</td>\n",
       "      <td>Cerah</td>\n",
       "      <td>Tuesday</td>\n",
       "      <td>Musim Dingin</td>\n",
       "      <td>8.200000</td>\n",
       "    </tr>\n",
       "    <tr>\n",
       "      <th>4</th>\n",
       "      <td>2011-01-05</td>\n",
       "      <td>Cerah</td>\n",
       "      <td>Wednesday</td>\n",
       "      <td>Musim Dingin</td>\n",
       "      <td>9.305237</td>\n",
       "    </tr>\n",
       "  </tbody>\n",
       "</table>\n",
       "</div>"
      ],
      "text/plain": [
       "      dteday weathersit weekday_name   season_name  temp_celsius\n",
       "0 2011-01-01    Berawan     Saturday  Musim Dingin     14.110847\n",
       "1 2011-01-02    Berawan       Sunday  Musim Dingin     14.902598\n",
       "2 2011-01-03      Cerah       Monday  Musim Dingin      8.050924\n",
       "3 2011-01-04      Cerah      Tuesday  Musim Dingin      8.200000\n",
       "4 2011-01-05      Cerah    Wednesday  Musim Dingin      9.305237"
      ]
     },
     "metadata": {},
     "output_type": "display_data"
    }
   ],
   "source": [
    "# Konversi kolom tanggal ke format datetime\n",
    "day_df['dteday'] = pd.to_datetime(day_df['dteday'])\n",
    "hour_df['dteday'] = pd.to_datetime(hour_df['dteday'])\n",
    "\n",
    "# Mapping kategori cuaca untuk interpretasi yang lebih jelas\n",
    "weather_map = {1: 'Cerah', 2: 'Berawan', 3: 'Hujan Ringan', 4: 'Hujan Berat'}\n",
    "day_df['weathersit'] = day_df['weathersit'].map(weather_map)\n",
    "hour_df['weathersit'] = hour_df['weathersit'].map(weather_map)\n",
    "\n",
    "# Menambahkan kolom hari dalam seminggu\n",
    "day_df['weekday_name'] = day_df['dteday'].dt.day_name()\n",
    "\n",
    "# Menambahkan kolom musiman untuk analisis lebih lanjut\n",
    "season_map = {1: 'Musim Dingin', 2: 'Musim Semi', 3: 'Musim Panas', 4: 'Musim Gugur'}\n",
    "day_df['season_name'] = day_df['season'].map(season_map)\n",
    "\n",
    "# Normalisasi suhu (temp) ke skala Celsius\n",
    "day_df['temp_celsius'] = day_df['temp'] * 41  # Skala asli: 0-1, maksimum 41°C\n",
    "hour_df['temp_celsius'] = hour_df['temp'] * 41\n",
    "\n",
    "print(\"Data Harian Setelah Transformasi:\")\n",
    "display(day_df[['dteday', 'weathersit', 'weekday_name', 'season_name', 'temp_celsius']].head())"
   ]
  },
  {
   "cell_type": "markdown",
   "metadata": {},
   "source": [
    "## Pertanyaan 1: Pengaruh Cuaca terhadap Penyewaan Sepeda\n",
    "\n",
    "Analisis ini bertujuan untuk mengevaluasi dampak kondisi cuaca terhadap rata-rata penyewaan sepeda harian. Visualisasi interaktif digunakan untuk memberikan wawasan yang jelas dan actionable bagi stakeholder."
   ]
  },
  {
   "cell_type": "code",
   "execution_count": 6,
   "metadata": {},
   "outputs": [
    {
     "data": {
      "application/vnd.plotly.v1+json": {
       "config": {
        "plotlyServerURL": "https://plot.ly"
       },
       "data": [
        {
         "error_y": {
          "array": {
           "bdata": "v/VqjnBEnECT9sma712dQLBRlUYjYZNA",
           "dtype": "f8"
          },
          "type": "data",
          "visible": true
         },
         "marker": {
          "color": [
           "#1f77b4",
           "#ff7f0e",
           "#2ca02c",
           "#d62728"
          ]
         },
         "text": {
          "bdata": "AAAAAACIr0AAAAAAAA2zQAAAAAAALJxA",
          "dtype": "f8"
         },
         "textposition": "auto",
         "type": "bar",
         "x": [
          "Berawan",
          "Cerah",
          "Hujan Ringan"
         ],
         "y": {
          "bdata": "vE2zhbmHr0BpHudCyQyzQJIkSZIkLZxA",
          "dtype": "f8"
         }
        }
       ],
       "layout": {
        "bargap": 0.2,
        "template": {
         "data": {
          "bar": [
           {
            "error_x": {
             "color": "#2a3f5f"
            },
            "error_y": {
             "color": "#2a3f5f"
            },
            "marker": {
             "line": {
              "color": "white",
              "width": 0.5
             },
             "pattern": {
              "fillmode": "overlay",
              "size": 10,
              "solidity": 0.2
             }
            },
            "type": "bar"
           }
          ],
          "barpolar": [
           {
            "marker": {
             "line": {
              "color": "white",
              "width": 0.5
             },
             "pattern": {
              "fillmode": "overlay",
              "size": 10,
              "solidity": 0.2
             }
            },
            "type": "barpolar"
           }
          ],
          "carpet": [
           {
            "aaxis": {
             "endlinecolor": "#2a3f5f",
             "gridcolor": "#C8D4E3",
             "linecolor": "#C8D4E3",
             "minorgridcolor": "#C8D4E3",
             "startlinecolor": "#2a3f5f"
            },
            "baxis": {
             "endlinecolor": "#2a3f5f",
             "gridcolor": "#C8D4E3",
             "linecolor": "#C8D4E3",
             "minorgridcolor": "#C8D4E3",
             "startlinecolor": "#2a3f5f"
            },
            "type": "carpet"
           }
          ],
          "choropleth": [
           {
            "colorbar": {
             "outlinewidth": 0,
             "ticks": ""
            },
            "type": "choropleth"
           }
          ],
          "contour": [
           {
            "colorbar": {
             "outlinewidth": 0,
             "ticks": ""
            },
            "colorscale": [
             [
              0,
              "#0d0887"
             ],
             [
              0.1111111111111111,
              "#46039f"
             ],
             [
              0.2222222222222222,
              "#7201a8"
             ],
             [
              0.3333333333333333,
              "#9c179e"
             ],
             [
              0.4444444444444444,
              "#bd3786"
             ],
             [
              0.5555555555555556,
              "#d8576b"
             ],
             [
              0.6666666666666666,
              "#ed7953"
             ],
             [
              0.7777777777777778,
              "#fb9f3a"
             ],
             [
              0.8888888888888888,
              "#fdca26"
             ],
             [
              1,
              "#f0f921"
             ]
            ],
            "type": "contour"
           }
          ],
          "contourcarpet": [
           {
            "colorbar": {
             "outlinewidth": 0,
             "ticks": ""
            },
            "type": "contourcarpet"
           }
          ],
          "heatmap": [
           {
            "colorbar": {
             "outlinewidth": 0,
             "ticks": ""
            },
            "colorscale": [
             [
              0,
              "#0d0887"
             ],
             [
              0.1111111111111111,
              "#46039f"
             ],
             [
              0.2222222222222222,
              "#7201a8"
             ],
             [
              0.3333333333333333,
              "#9c179e"
             ],
             [
              0.4444444444444444,
              "#bd3786"
             ],
             [
              0.5555555555555556,
              "#d8576b"
             ],
             [
              0.6666666666666666,
              "#ed7953"
             ],
             [
              0.7777777777777778,
              "#fb9f3a"
             ],
             [
              0.8888888888888888,
              "#fdca26"
             ],
             [
              1,
              "#f0f921"
             ]
            ],
            "type": "heatmap"
           }
          ],
          "histogram": [
           {
            "marker": {
             "pattern": {
              "fillmode": "overlay",
              "size": 10,
              "solidity": 0.2
             }
            },
            "type": "histogram"
           }
          ],
          "histogram2d": [
           {
            "colorbar": {
             "outlinewidth": 0,
             "ticks": ""
            },
            "colorscale": [
             [
              0,
              "#0d0887"
             ],
             [
              0.1111111111111111,
              "#46039f"
             ],
             [
              0.2222222222222222,
              "#7201a8"
             ],
             [
              0.3333333333333333,
              "#9c179e"
             ],
             [
              0.4444444444444444,
              "#bd3786"
             ],
             [
              0.5555555555555556,
              "#d8576b"
             ],
             [
              0.6666666666666666,
              "#ed7953"
             ],
             [
              0.7777777777777778,
              "#fb9f3a"
             ],
             [
              0.8888888888888888,
              "#fdca26"
             ],
             [
              1,
              "#f0f921"
             ]
            ],
            "type": "histogram2d"
           }
          ],
          "histogram2dcontour": [
           {
            "colorbar": {
             "outlinewidth": 0,
             "ticks": ""
            },
            "colorscale": [
             [
              0,
              "#0d0887"
             ],
             [
              0.1111111111111111,
              "#46039f"
             ],
             [
              0.2222222222222222,
              "#7201a8"
             ],
             [
              0.3333333333333333,
              "#9c179e"
             ],
             [
              0.4444444444444444,
              "#bd3786"
             ],
             [
              0.5555555555555556,
              "#d8576b"
             ],
             [
              0.6666666666666666,
              "#ed7953"
             ],
             [
              0.7777777777777778,
              "#fb9f3a"
             ],
             [
              0.8888888888888888,
              "#fdca26"
             ],
             [
              1,
              "#f0f921"
             ]
            ],
            "type": "histogram2dcontour"
           }
          ],
          "mesh3d": [
           {
            "colorbar": {
             "outlinewidth": 0,
             "ticks": ""
            },
            "type": "mesh3d"
           }
          ],
          "parcoords": [
           {
            "line": {
             "colorbar": {
              "outlinewidth": 0,
              "ticks": ""
             }
            },
            "type": "parcoords"
           }
          ],
          "pie": [
           {
            "automargin": true,
            "type": "pie"
           }
          ],
          "scatter": [
           {
            "fillpattern": {
             "fillmode": "overlay",
             "size": 10,
             "solidity": 0.2
            },
            "type": "scatter"
           }
          ],
          "scatter3d": [
           {
            "line": {
             "colorbar": {
              "outlinewidth": 0,
              "ticks": ""
             }
            },
            "marker": {
             "colorbar": {
              "outlinewidth": 0,
              "ticks": ""
             }
            },
            "type": "scatter3d"
           }
          ],
          "scattercarpet": [
           {
            "marker": {
             "colorbar": {
              "outlinewidth": 0,
              "ticks": ""
             }
            },
            "type": "scattercarpet"
           }
          ],
          "scattergeo": [
           {
            "marker": {
             "colorbar": {
              "outlinewidth": 0,
              "ticks": ""
             }
            },
            "type": "scattergeo"
           }
          ],
          "scattergl": [
           {
            "marker": {
             "colorbar": {
              "outlinewidth": 0,
              "ticks": ""
             }
            },
            "type": "scattergl"
           }
          ],
          "scattermap": [
           {
            "marker": {
             "colorbar": {
              "outlinewidth": 0,
              "ticks": ""
             }
            },
            "type": "scattermap"
           }
          ],
          "scattermapbox": [
           {
            "marker": {
             "colorbar": {
              "outlinewidth": 0,
              "ticks": ""
             }
            },
            "type": "scattermapbox"
           }
          ],
          "scatterpolar": [
           {
            "marker": {
             "colorbar": {
              "outlinewidth": 0,
              "ticks": ""
             }
            },
            "type": "scatterpolar"
           }
          ],
          "scatterpolargl": [
           {
            "marker": {
             "colorbar": {
              "outlinewidth": 0,
              "ticks": ""
             }
            },
            "type": "scatterpolargl"
           }
          ],
          "scatterternary": [
           {
            "marker": {
             "colorbar": {
              "outlinewidth": 0,
              "ticks": ""
             }
            },
            "type": "scatterternary"
           }
          ],
          "surface": [
           {
            "colorbar": {
             "outlinewidth": 0,
             "ticks": ""
            },
            "colorscale": [
             [
              0,
              "#0d0887"
             ],
             [
              0.1111111111111111,
              "#46039f"
             ],
             [
              0.2222222222222222,
              "#7201a8"
             ],
             [
              0.3333333333333333,
              "#9c179e"
             ],
             [
              0.4444444444444444,
              "#bd3786"
             ],
             [
              0.5555555555555556,
              "#d8576b"
             ],
             [
              0.6666666666666666,
              "#ed7953"
             ],
             [
              0.7777777777777778,
              "#fb9f3a"
             ],
             [
              0.8888888888888888,
              "#fdca26"
             ],
             [
              1,
              "#f0f921"
             ]
            ],
            "type": "surface"
           }
          ],
          "table": [
           {
            "cells": {
             "fill": {
              "color": "#EBF0F8"
             },
             "line": {
              "color": "white"
             }
            },
            "header": {
             "fill": {
              "color": "#C8D4E3"
             },
             "line": {
              "color": "white"
             }
            },
            "type": "table"
           }
          ]
         },
         "layout": {
          "annotationdefaults": {
           "arrowcolor": "#2a3f5f",
           "arrowhead": 0,
           "arrowwidth": 1
          },
          "autotypenumbers": "strict",
          "coloraxis": {
           "colorbar": {
            "outlinewidth": 0,
            "ticks": ""
           }
          },
          "colorscale": {
           "diverging": [
            [
             0,
             "#8e0152"
            ],
            [
             0.1,
             "#c51b7d"
            ],
            [
             0.2,
             "#de77ae"
            ],
            [
             0.3,
             "#f1b6da"
            ],
            [
             0.4,
             "#fde0ef"
            ],
            [
             0.5,
             "#f7f7f7"
            ],
            [
             0.6,
             "#e6f5d0"
            ],
            [
             0.7,
             "#b8e186"
            ],
            [
             0.8,
             "#7fbc41"
            ],
            [
             0.9,
             "#4d9221"
            ],
            [
             1,
             "#276419"
            ]
           ],
           "sequential": [
            [
             0,
             "#0d0887"
            ],
            [
             0.1111111111111111,
             "#46039f"
            ],
            [
             0.2222222222222222,
             "#7201a8"
            ],
            [
             0.3333333333333333,
             "#9c179e"
            ],
            [
             0.4444444444444444,
             "#bd3786"
            ],
            [
             0.5555555555555556,
             "#d8576b"
            ],
            [
             0.6666666666666666,
             "#ed7953"
            ],
            [
             0.7777777777777778,
             "#fb9f3a"
            ],
            [
             0.8888888888888888,
             "#fdca26"
            ],
            [
             1,
             "#f0f921"
            ]
           ],
           "sequentialminus": [
            [
             0,
             "#0d0887"
            ],
            [
             0.1111111111111111,
             "#46039f"
            ],
            [
             0.2222222222222222,
             "#7201a8"
            ],
            [
             0.3333333333333333,
             "#9c179e"
            ],
            [
             0.4444444444444444,
             "#bd3786"
            ],
            [
             0.5555555555555556,
             "#d8576b"
            ],
            [
             0.6666666666666666,
             "#ed7953"
            ],
            [
             0.7777777777777778,
             "#fb9f3a"
            ],
            [
             0.8888888888888888,
             "#fdca26"
            ],
            [
             1,
             "#f0f921"
            ]
           ]
          },
          "colorway": [
           "#636efa",
           "#EF553B",
           "#00cc96",
           "#ab63fa",
           "#FFA15A",
           "#19d3f3",
           "#FF6692",
           "#B6E880",
           "#FF97FF",
           "#FECB52"
          ],
          "font": {
           "color": "#2a3f5f"
          },
          "geo": {
           "bgcolor": "white",
           "lakecolor": "white",
           "landcolor": "white",
           "showlakes": true,
           "showland": true,
           "subunitcolor": "#C8D4E3"
          },
          "hoverlabel": {
           "align": "left"
          },
          "hovermode": "closest",
          "mapbox": {
           "style": "light"
          },
          "paper_bgcolor": "white",
          "plot_bgcolor": "white",
          "polar": {
           "angularaxis": {
            "gridcolor": "#EBF0F8",
            "linecolor": "#EBF0F8",
            "ticks": ""
           },
           "bgcolor": "white",
           "radialaxis": {
            "gridcolor": "#EBF0F8",
            "linecolor": "#EBF0F8",
            "ticks": ""
           }
          },
          "scene": {
           "xaxis": {
            "backgroundcolor": "white",
            "gridcolor": "#DFE8F3",
            "gridwidth": 2,
            "linecolor": "#EBF0F8",
            "showbackground": true,
            "ticks": "",
            "zerolinecolor": "#EBF0F8"
           },
           "yaxis": {
            "backgroundcolor": "white",
            "gridcolor": "#DFE8F3",
            "gridwidth": 2,
            "linecolor": "#EBF0F8",
            "showbackground": true,
            "ticks": "",
            "zerolinecolor": "#EBF0F8"
           },
           "zaxis": {
            "backgroundcolor": "white",
            "gridcolor": "#DFE8F3",
            "gridwidth": 2,
            "linecolor": "#EBF0F8",
            "showbackground": true,
            "ticks": "",
            "zerolinecolor": "#EBF0F8"
           }
          },
          "shapedefaults": {
           "line": {
            "color": "#2a3f5f"
           }
          },
          "ternary": {
           "aaxis": {
            "gridcolor": "#DFE8F3",
            "linecolor": "#A2B1C6",
            "ticks": ""
           },
           "baxis": {
            "gridcolor": "#DFE8F3",
            "linecolor": "#A2B1C6",
            "ticks": ""
           },
           "bgcolor": "white",
           "caxis": {
            "gridcolor": "#DFE8F3",
            "linecolor": "#A2B1C6",
            "ticks": ""
           }
          },
          "title": {
           "x": 0.05
          },
          "xaxis": {
           "automargin": true,
           "gridcolor": "#EBF0F8",
           "linecolor": "#EBF0F8",
           "ticks": "",
           "title": {
            "standoff": 15
           },
           "zerolinecolor": "#EBF0F8",
           "zerolinewidth": 2
          },
          "yaxis": {
           "automargin": true,
           "gridcolor": "#EBF0F8",
           "linecolor": "#EBF0F8",
           "ticks": "",
           "title": {
            "standoff": 15
           },
           "zerolinecolor": "#EBF0F8",
           "zerolinewidth": 2
          }
         }
        },
        "title": {
         "text": "Rata-rata Penyewaan Sepeda Berdasarkan Kondisi Cuaca"
        },
        "xaxis": {
         "title": {
          "text": "Kondisi Cuaca"
         }
        },
        "yaxis": {
         "title": {
          "text": "Jumlah Penyewaan (Rata-rata)"
         }
        }
       }
      }
     },
     "metadata": {},
     "output_type": "display_data"
    }
   ],
   "source": [
    "# Menghitung rata-rata penyewaan berdasarkan cuaca\n",
    "weather_avg = day_df.groupby('weathersit')['cnt'].agg(['mean', 'std']).reset_index()\n",
    "\n",
    "# Bar plot interaktif dengan error bars\n",
    "fig = go.Figure(data=[\n",
    "    go.Bar(\n",
    "        x=weather_avg['weathersit'],\n",
    "        y=weather_avg['mean'],\n",
    "        text=weather_avg['mean'].round().astype(int),\n",
    "        textposition='auto',\n",
    "        marker_color=['#1f77b4', '#ff7f0e', '#2ca02c', '#d62728'],\n",
    "        error_y=dict(type='data', array=weather_avg['std'], visible=True)\n",
    "    )\n",
    "])\n",
    "\n",
    "fig.update_layout(\n",
    "    title='Rata-rata Penyewaan Sepeda Berdasarkan Kondisi Cuaca',\n",
    "    xaxis_title='Kondisi Cuaca',\n",
    "    yaxis_title='Jumlah Penyewaan (Rata-rata)',\n",
    "    template='plotly_white',\n",
    "    bargap=0.2\n",
    ")\n",
    "fig.show()"
   ]
  },
  {
   "cell_type": "markdown",
   "metadata": {},
   "source": [
    "## Pertanyaan 2: Pola Penggunaan Sepeda Berdasarkan Hari dan Jam\n",
    "\n",
    "Analisis ini bertujuan untuk mengidentifikasi pola penyewaan sepeda berdasarkan hari dalam seminggu dan jam dalam sehari. Heatmap digunakan untuk memvisualisasikan distribusi penyewaan secara komprehensif."
   ]
  },
  {
   "cell_type": "code",
   "execution_count": 7,
   "metadata": {},
   "outputs": [
    {
     "data": {
      "image/png": "[encoded data removed]",
      "text/plain": [
       "<Figure size 1400x1000 with 2 Axes>"
      ]
     },
     "metadata": {},
     "output_type": "display_data"
    }
   ],
   "source": [
    "# Membuat pivot table untuk heatmap\n",
    "pivot_table = hour_df.pivot_table(values='cnt', index='hr', columns='weekday', aggfunc='mean')\n",
    "\n",
    "# Heatmap dengan styling profesional\n",
    "plt.figure(figsize=(14, 10))\n",
    "sns.heatmap(pivot_table, \n",
    "            cmap='viridis', \n",
    "            annot=True, \n",
    "            fmt='.0f', \n",
    "            linewidths=0.5, \n",
    "            cbar_kws={'label': 'Jumlah Penyewaan'})\n",
    "plt.title('Rata-rata Penyewaan Sepeda per Jam dan Hari', fontsize=16, pad=20)\n",
    "plt.xlabel('Hari (0 = Minggu, 6 = Sabtu)', fontsize=12)\n",
    "plt.ylabel('Jam (0-23)', fontsize=12)\n",
    "plt.xticks(rotation=0)\n",
    "plt.yticks(rotation=0)\n",
    "plt.tight_layout()\n",
    "plt.show()"
   ]
  },
  {
   "cell_type": "markdown",
   "metadata": {},
   "source": [
    "## Analisis Lanjutan: Clustering Manual dan Korelasi\n",
    "\n",
    "Untuk memperkaya analisis, kita akan:\n",
    "1. Mengelompokkan hari berdasarkan jumlah penyewaan menggunakan teknik **binning** untuk mengidentifikasi tingkat penggunaan.\n",
    "2. Menganalisis korelasi antara suhu, kelembapan, dan penyewaan untuk memahami faktor lingkungan yang relevan."
   ]
  },
  {
   "cell_type": "code",
   "execution_count": 8,
   "metadata": {},
   "outputs": [
    {
     "data": {
      "application/vnd.plotly.v1+json": {
       "config": {
        "plotlyServerURL": "https://plot.ly"
       },
       "data": [
        {
         "bingroup": "x",
         "hovertemplate": "Kategori Penggunaan=%{x}<br>count=%{y}<extra></extra>",
         "legendgroup": "Sangat Rendah",
         "marker": {
          "color": "#0d0887",
          "pattern": {
           "shape": ""
          }
         },
         "name": "Sangat Rendah",
         "orientation": "v",
         "showlegend": true,
         "type": "histogram",
         "x": [
          "Sangat Rendah",
          "Sangat Rendah",
          "Sangat Rendah",
          "Sangat Rendah",
          "Sangat Rendah",
          "Sangat Rendah",
          "Sangat Rendah",
          "Sangat Rendah",
          "Sangat Rendah",
          "Sangat Rendah",
          "Sangat Rendah",
          "Sangat Rendah",
          "Sangat Rendah",
          "Sangat Rendah",
          "Sangat Rendah",
          "Sangat Rendah",
          "Sangat Rendah",
          "Sangat Rendah",
          "Sangat Rendah",
          "Sangat Rendah",
          "Sangat Rendah",
          "Sangat Rendah",
          "Sangat Rendah",
          "Sangat Rendah",
          "Sangat Rendah",
          "Sangat Rendah",
          "Sangat Rendah",
          "Sangat Rendah",
          "Sangat Rendah",
          "Sangat Rendah",
          "Sangat Rendah",
          "Sangat Rendah",
          "Sangat Rendah",
          "Sangat Rendah",
          "Sangat Rendah",
          "Sangat Rendah",
          "Sangat Rendah",
          "Sangat Rendah",
          "Sangat Rendah",
          "Sangat Rendah",
          "Sangat Rendah",
          "Sangat Rendah",
          "Sangat Rendah",
          "Sangat Rendah",
          "Sangat Rendah",
          "Sangat Rendah",
          "Sangat Rendah",
          "Sangat Rendah",
          "Sangat Rendah",
          "Sangat Rendah",
          "Sangat Rendah",
          "Sangat Rendah",
          "Sangat Rendah",
          "Sangat Rendah",
          "Sangat Rendah",
          "Sangat Rendah",
          "Sangat Rendah",
          "Sangat Rendah",
          "Sangat Rendah",
          "Sangat Rendah",
          "Sangat Rendah",
          "Sangat Rendah",
          "Sangat Rendah",
          "Sangat Rendah",
          "Sangat Rendah",
          "Sangat Rendah",
          "Sangat Rendah",
          "Sangat Rendah",
          "Sangat Rendah",
          "Sangat Rendah",
          "Sangat Rendah",
          "Sangat Rendah",
          "Sangat Rendah",
          "Sangat Rendah",
          "Sangat Rendah",
          "Sangat Rendah",
          "Sangat Rendah",
          "Sangat Rendah",
          "Sangat Rendah",
          "Sangat Rendah",
          "Sangat Rendah",
          "Sangat Rendah",
          "Sangat Rendah",
          "Sangat Rendah",
          "Sangat Rendah",
          "Sangat Rendah",
          "Sangat Rendah",
          "Sangat Rendah",
          "Sangat Rendah",
          "Sangat Rendah",
          "Sangat Rendah",
          "Sangat Rendah",
          "Sangat Rendah",
          "Sangat Rendah",
          "Sangat Rendah",
          "Sangat Rendah",
          "Sangat Rendah",
          "Sangat Rendah"
         ],
         "xaxis": "x",
         "yaxis": "y"
        },
        {
         "bingroup": "x",
         "hovertemplate": "Kategori Penggunaan=%{x}<br>count=%{y}<extra></extra>",
         "legendgroup": "Rendah",
         "marker": {
          "color": "#46039f",
          "pattern": {
           "shape": ""
          }
         },
         "name": "Rendah",
         "orientation": "v",
         "showlegend": true,
         "type": "histogram",
         "x": [
          "Rendah",
          "Rendah",
          "Rendah",
          "Rendah",
          "Rendah",
          "Rendah",
          "Rendah",
          "Rendah",
          "Rendah",
          "Rendah",
          "Rendah",
          "Rendah",
          "Rendah",
          "Rendah",
          "Rendah",
          "Rendah",
          "Rendah",
          "Rendah",
          "Rendah",
          "Rendah",
          "Rendah",
          "Rendah",
          "Rendah",
          "Rendah",
          "Rendah",
          "Rendah",
          "Rendah",
          "Rendah",
          "Rendah",
          "Rendah",
          "Rendah",
          "Rendah",
          "Rendah",
          "Rendah",
          "Rendah",
          "Rendah",
          "Rendah",
          "Rendah",
          "Rendah",
          "Rendah",
          "Rendah",
          "Rendah",
          "Rendah",
          "Rendah",
          "Rendah",
          "Rendah",
          "Rendah",
          "Rendah",
          "Rendah",
          "Rendah",
          "Rendah",
          "Rendah",
          "Rendah",
          "Rendah",
          "Rendah",
          "Rendah",
          "Rendah",
          "Rendah",
          "Rendah",
          "Rendah",
          "Rendah",
          "Rendah",
          "Rendah",
          "Rendah",
          "Rendah",
          "Rendah",
          "Rendah",
          "Rendah",
          "Rendah",
          "Rendah",
          "Rendah",
          "Rendah",
          "Rendah",
          "Rendah",
          "Rendah",
          "Rendah",
          "Rendah",
          "Rendah",
          "Rendah",
          "Rendah",
          "Rendah",
          "Rendah",
          "Rendah",
          "Rendah",
          "Rendah",
          "Rendah",
          "Rendah",
          "Rendah",
          "Rendah",
          "Rendah",
          "Rendah",
          "Rendah",
          "Rendah",
          "Rendah",
          "Rendah",
          "Rendah",
          "Rendah",
          "Rendah",
          "Rendah",
          "Rendah",
          "Rendah",
          "Rendah",
          "Rendah",
          "Rendah",
          "Rendah",
          "Rendah",
          "Rendah",
          "Rendah",
          "Rendah",
          "Rendah",
          "Rendah",
          "Rendah",
          "Rendah",
          "Rendah",
          "Rendah",
          "Rendah",
          "Rendah",
          "Rendah",
          "Rendah",
          "Rendah",
          "Rendah",
          "Rendah",
          "Rendah",
          "Rendah",
          "Rendah",
          "Rendah",
          "Rendah",
          "Rendah",
          "Rendah",
          "Rendah",
          "Rendah",
          "Rendah",
          "Rendah",
          "Rendah",
          "Rendah",
          "Rendah",
          "Rendah",
          "Rendah",
          "Rendah",
          "Rendah",
          "Rendah",
          "Rendah",
          "Rendah",
          "Rendah",
          "Rendah",
          "Rendah",
          "Rendah",
          "Rendah",
          "Rendah",
          "Rendah",
          "Rendah",
          "Rendah",
          "Rendah",
          "Rendah",
          "Rendah",
          "Rendah",
          "Rendah",
          "Rendah",
          "Rendah",
          "Rendah",
          "Rendah",
          "Rendah",
          "Rendah",
          "Rendah",
          "Rendah",
          "Rendah",
          "Rendah",
          "Rendah",
          "Rendah",
          "Rendah",
          "Rendah",
          "Rendah",
          "Rendah",
          "Rendah",
          "Rendah",
          "Rendah",
          "Rendah",
          "Rendah",
          "Rendah",
          "Rendah",
          "Rendah"
         ],
         "xaxis": "x",
         "yaxis": "y"
        },
        {
         "bingroup": "x",
         "hovertemplate": "Kategori Penggunaan=%{x}<br>count=%{y}<extra></extra>",
         "legendgroup": "Sedang",
         "marker": {
          "color": "#7201a8",
          "pattern": {
           "shape": ""
          }
         },
         "name": "Sedang",
         "orientation": "v",
         "showlegend": true,
         "type": "histogram",
         "x": [
          "Sedang",
          "Sedang",
          "Sedang",
          "Sedang",
          "Sedang",
          "Sedang",
          "Sedang",
          "Sedang",
          "Sedang",
          "Sedang",
          "Sedang",
          "Sedang",
          "Sedang",
          "Sedang",
          "Sedang",
          "Sedang",
          "Sedang",
          "Sedang",
          "Sedang",
          "Sedang",
          "Sedang",
          "Sedang",
          "Sedang",
          "Sedang",
          "Sedang",
          "Sedang",
          "Sedang",
          "Sedang",
          "Sedang",
          "Sedang",
          "Sedang",
          "Sedang",
          "Sedang",
          "Sedang",
          "Sedang",
          "Sedang",
          "Sedang",
          "Sedang",
          "Sedang",
          "Sedang",
          "Sedang",
          "Sedang",
          "Sedang",
          "Sedang",
          "Sedang",
          "Sedang",
          "Sedang",
          "Sedang",
          "Sedang",
          "Sedang",
          "Sedang",
          "Sedang",
          "Sedang",
          "Sedang",
          "Sedang",
          "Sedang",
          "Sedang",
          "Sedang",
          "Sedang",
          "Sedang",
          "Sedang",
          "Sedang",
          "Sedang",
          "Sedang",
          "Sedang",
          "Sedang",
          "Sedang",
          "Sedang",
          "Sedang",
          "Sedang",
          "Sedang",
          "Sedang",
          "Sedang",
          "Sedang",
          "Sedang",
          "Sedang",
          "Sedang",
          "Sedang",
          "Sedang",
          "Sedang",
          "Sedang",
          "Sedang",
          "Sedang",
          "Sedang",
          "Sedang",
          "Sedang",
          "Sedang",
          "Sedang",
          "Sedang",
          "Sedang",
          "Sedang",
          "Sedang",
          "Sedang",
          "Sedang",
          "Sedang",
          "Sedang",
          "Sedang",
          "Sedang",
          "Sedang",
          "Sedang",
          "Sedang",
          "Sedang",
          "Sedang",
          "Sedang",
          "Sedang",
          "Sedang",
          "Sedang",
          "Sedang",
          "Sedang",
          "Sedang",
          "Sedang",
          "Sedang",
          "Sedang",
          "Sedang",
          "Sedang",
          "Sedang",
          "Sedang",
          "Sedang",
          "Sedang",
          "Sedang",
          "Sedang",
          "Sedang",
          "Sedang",
          "Sedang",
          "Sedang",
          "Sedang",
          "Sedang",
          "Sedang",
          "Sedang",
          "Sedang",
          "Sedang",
          "Sedang",
          "Sedang",
          "Sedang",
          "Sedang",
          "Sedang",
          "Sedang",
          "Sedang",
          "Sedang",
          "Sedang",
          "Sedang",
          "Sedang",
          "Sedang",
          "Sedang",
          "Sedang",
          "Sedang",
          "Sedang",
          "Sedang",
          "Sedang",
          "Sedang",
          "Sedang",
          "Sedang",
          "Sedang",
          "Sedang",
          "Sedang",
          "Sedang",
          "Sedang",
          "Sedang",
          "Sedang",
          "Sedang",
          "Sedang",
          "Sedang",
          "Sedang",
          "Sedang",
          "Sedang",
          "Sedang",
          "Sedang",
          "Sedang",
          "Sedang",
          "Sedang",
          "Sedang",
          "Sedang",
          "Sedang",
          "Sedang",
          "Sedang",
          "Sedang",
          "Sedang",
          "Sedang",
          "Sedang",
          "Sedang",
          "Sedang",
          "Sedang",
          "Sedang",
          "Sedang",
          "Sedang",
          "Sedang",
          "Sedang",
          "Sedang",
          "Sedang",
          "Sedang",
          "Sedang",
          "Sedang",
          "Sedang",
          "Sedang",
          "Sedang",
          "Sedang",
          "Sedang",
          "Sedang",
          "Sedang",
          "Sedang",
          "Sedang",
          "Sedang",
          "Sedang",
          "Sedang",
          "Sedang",
          "Sedang",
          "Sedang",
          "Sedang",
          "Sedang",
          "Sedang",
          "Sedang",
          "Sedang",
          "Sedang",
          "Sedang",
          "Sedang",
          "Sedang",
          "Sedang",
          "Sedang",
          "Sedang",
          "Sedang",
          "Sedang",
          "Sedang",
          "Sedang",
          "Sedang",
          "Sedang",
          "Sedang",
          "Sedang",
          "Sedang",
          "Sedang",
          "Sedang",
          "Sedang",
          "Sedang",
          "Sedang",
          "Sedang",
          "Sedang",
          "Sedang",
          "Sedang",
          "Sedang",
          "Sedang",
          "Sedang",
          "Sedang",
          "Sedang",
          "Sedang",
          "Sedang",
          "Sedang",
          "Sedang",
          "Sedang",
          "Sedang",
          "Sedang",
          "Sedang",
          "Sedang",
          "Sedang",
          "Sedang",
          "Sedang",
          "Sedang",
          "Sedang",
          "Sedang",
          "Sedang",
          "Sedang",
          "Sedang",
          "Sedang",
          "Sedang",
          "Sedang",
          "Sedang",
          "Sedang",
          "Sedang",
          "Sedang",
          "Sedang",
          "Sedang",
          "Sedang",
          "Sedang",
          "Sedang"
         ],
         "xaxis": "x",
         "yaxis": "y"
        },
        {
         "bingroup": "x",
         "hovertemplate": "Kategori Penggunaan=%{x}<br>count=%{y}<extra></extra>",
         "legendgroup": "Tinggi",
         "marker": {
          "color": "#9c179e",
          "pattern": {
           "shape": ""
          }
         },
         "name": "Tinggi",
         "orientation": "v",
         "showlegend": true,
         "type": "histogram",
         "x": [
          "Tinggi",
          "Tinggi",
          "Tinggi",
          "Tinggi",
          "Tinggi",
          "Tinggi",
          "Tinggi",
          "Tinggi",
          "Tinggi",
          "Tinggi",
          "Tinggi",
          "Tinggi",
          "Tinggi",
          "Tinggi",
          "Tinggi",
          "Tinggi",
          "Tinggi",
          "Tinggi",
          "Tinggi",
          "Tinggi",
          "Tinggi",
          "Tinggi",
          "Tinggi",
          "Tinggi",
          "Tinggi",
          "Tinggi",
          "Tinggi",
          "Tinggi",
          "Tinggi",
          "Tinggi",
          "Tinggi",
          "Tinggi",
          "Tinggi",
          "Tinggi",
          "Tinggi",
          "Tinggi",
          "Tinggi",
          "Tinggi",
          "Tinggi",
          "Tinggi",
          "Tinggi",
          "Tinggi",
          "Tinggi",
          "Tinggi",
          "Tinggi",
          "Tinggi",
          "Tinggi",
          "Tinggi",
          "Tinggi",
          "Tinggi",
          "Tinggi",
          "Tinggi",
          "Tinggi",
          "Tinggi",
          "Tinggi",
          "Tinggi",
          "Tinggi",
          "Tinggi",
          "Tinggi",
          "Tinggi",
          "Tinggi",
          "Tinggi",
          "Tinggi",
          "Tinggi",
          "Tinggi",
          "Tinggi",
          "Tinggi",
          "Tinggi",
          "Tinggi",
          "Tinggi",
          "Tinggi",
          "Tinggi",
          "Tinggi",
          "Tinggi",
          "Tinggi",
          "Tinggi",
          "Tinggi",
          "Tinggi",
          "Tinggi",
          "Tinggi",
          "Tinggi",
          "Tinggi",
          "Tinggi",
          "Tinggi",
          "Tinggi",
          "Tinggi",
          "Tinggi",
          "Tinggi",
          "Tinggi",
          "Tinggi",
          "Tinggi",
          "Tinggi",
          "Tinggi",
          "Tinggi",
          "Tinggi",
          "Tinggi",
          "Tinggi",
          "Tinggi",
          "Tinggi",
          "Tinggi",
          "Tinggi",
          "Tinggi",
          "Tinggi",
          "Tinggi",
          "Tinggi",
          "Tinggi",
          "Tinggi",
          "Tinggi",
          "Tinggi",
          "Tinggi",
          "Tinggi",
          "Tinggi",
          "Tinggi",
          "Tinggi",
          "Tinggi",
          "Tinggi",
          "Tinggi",
          "Tinggi",
          "Tinggi",
          "Tinggi",
          "Tinggi",
          "Tinggi",
          "Tinggi",
          "Tinggi",
          "Tinggi",
          "Tinggi",
          "Tinggi",
          "Tinggi",
          "Tinggi",
          "Tinggi",
          "Tinggi",
          "Tinggi",
          "Tinggi",
          "Tinggi",
          "Tinggi",
          "Tinggi",
          "Tinggi",
          "Tinggi",
          "Tinggi",
          "Tinggi",
          "Tinggi",
          "Tinggi",
          "Tinggi",
          "Tinggi",
          "Tinggi",
          "Tinggi",
          "Tinggi",
          "Tinggi",
          "Tinggi",
          "Tinggi",
          "Tinggi",
          "Tinggi",
          "Tinggi",
          "Tinggi",
          "Tinggi",
          "Tinggi",
          "Tinggi",
          "Tinggi",
          "Tinggi",
          "Tinggi",
          "Tinggi",
          "Tinggi",
          "Tinggi",
          "Tinggi",
          "Tinggi",
          "Tinggi",
          "Tinggi",
          "Tinggi"
         ],
         "xaxis": "x",
         "yaxis": "y"
        }
       ],
       "layout": {
        "bargap": 0.1,
        "barmode": "relative",
        "legend": {
         "title": {
          "text": "Kategori Penggunaan"
         },
         "tracegroupgap": 0
        },
        "template": {
         "data": {
          "bar": [
           {
            "error_x": {
             "color": "#2a3f5f"
            },
            "error_y": {
             "color": "#2a3f5f"
            },
            "marker": {
             "line": {
              "color": "white",
              "width": 0.5
             },
             "pattern": {
              "fillmode": "overlay",
              "size": 10,
              "solidity": 0.2
             }
            },
            "type": "bar"
           }
          ],
          "barpolar": [
           {
            "marker": {
             "line": {
              "color": "white",
              "width": 0.5
             },
             "pattern": {
              "fillmode": "overlay",
              "size": 10,
              "solidity": 0.2
             }
            },
            "type": "barpolar"
           }
          ],
          "carpet": [
           {
            "aaxis": {
             "endlinecolor": "#2a3f5f",
             "gridcolor": "#C8D4E3",
             "linecolor": "#C8D4E3",
             "minorgridcolor": "#C8D4E3",
             "startlinecolor": "#2a3f5f"
            },
            "baxis": {
             "endlinecolor": "#2a3f5f",
             "gridcolor": "#C8D4E3",
             "linecolor": "#C8D4E3",
             "minorgridcolor": "#C8D4E3",
             "startlinecolor": "#2a3f5f"
            },
            "type": "carpet"
           }
          ],
          "choropleth": [
           {
            "colorbar": {
             "outlinewidth": 0,
             "ticks": ""
            },
            "type": "choropleth"
           }
          ],
          "contour": [
           {
            "colorbar": {
             "outlinewidth": 0,
             "ticks": ""
            },
            "colorscale": [
             [
              0,
              "#0d0887"
             ],
             [
              0.1111111111111111,
              "#46039f"
             ],
             [
              0.2222222222222222,
              "#7201a8"
             ],
             [
              0.3333333333333333,
              "#9c179e"
             ],
             [
              0.4444444444444444,
              "#bd3786"
             ],
             [
              0.5555555555555556,
              "#d8576b"
             ],
             [
              0.6666666666666666,
              "#ed7953"
             ],
             [
              0.7777777777777778,
              "#fb9f3a"
             ],
             [
              0.8888888888888888,
              "#fdca26"
             ],
             [
              1,
              "#f0f921"
             ]
            ],
            "type": "contour"
           }
          ],
          "contourcarpet": [
           {
            "colorbar": {
             "outlinewidth": 0,
             "ticks": ""
            },
            "type": "contourcarpet"
           }
          ],
          "heatmap": [
           {
            "colorbar": {
             "outlinewidth": 0,
             "ticks": ""
            },
            "colorscale": [
             [
              0,
              "#0d0887"
             ],
             [
              0.1111111111111111,
              "#46039f"
             ],
             [
              0.2222222222222222,
              "#7201a8"
             ],
             [
              0.3333333333333333,
              "#9c179e"
             ],
             [
              0.4444444444444444,
              "#bd3786"
             ],
             [
              0.5555555555555556,
              "#d8576b"
             ],
             [
              0.6666666666666666,
              "#ed7953"
             ],
             [
              0.7777777777777778,
              "#fb9f3a"
             ],
             [
              0.8888888888888888,
              "#fdca26"
             ],
             [
              1,
              "#f0f921"
             ]
            ],
            "type": "heatmap"
           }
          ],
          "histogram": [
           {
            "marker": {
             "pattern": {
              "fillmode": "overlay",
              "size": 10,
              "solidity": 0.2
             }
            },
            "type": "histogram"
           }
          ],
          "histogram2d": [
           {
            "colorbar": {
             "outlinewidth": 0,
             "ticks": ""
            },
            "colorscale": [
             [
              0,
              "#0d0887"
             ],
             [
              0.1111111111111111,
              "#46039f"
             ],
             [
              0.2222222222222222,
              "#7201a8"
             ],
             [
              0.3333333333333333,
              "#9c179e"
             ],
             [
              0.4444444444444444,
              "#bd3786"
             ],
             [
              0.5555555555555556,
              "#d8576b"
             ],
             [
              0.6666666666666666,
              "#ed7953"
             ],
             [
              0.7777777777777778,
              "#fb9f3a"
             ],
             [
              0.8888888888888888,
              "#fdca26"
             ],
             [
              1,
              "#f0f921"
             ]
            ],
            "type": "histogram2d"
           }
          ],
          "histogram2dcontour": [
           {
            "colorbar": {
             "outlinewidth": 0,
             "ticks": ""
            },
            "colorscale": [
             [
              0,
              "#0d0887"
             ],
             [
              0.1111111111111111,
              "#46039f"
             ],
             [
              0.2222222222222222,
              "#7201a8"
             ],
             [
              0.3333333333333333,
              "#9c179e"
             ],
             [
              0.4444444444444444,
              "#bd3786"
             ],
             [
              0.5555555555555556,
              "#d8576b"
             ],
             [
              0.6666666666666666,
              "#ed7953"
             ],
             [
              0.7777777777777778,
              "#fb9f3a"
             ],
             [
              0.8888888888888888,
              "#fdca26"
             ],
             [
              1,
              "#f0f921"
             ]
            ],
            "type": "histogram2dcontour"
           }
          ],
          "mesh3d": [
           {
            "colorbar": {
             "outlinewidth": 0,
             "ticks": ""
            },
            "type": "mesh3d"
           }
          ],
          "parcoords": [
           {
            "line": {
             "colorbar": {
              "outlinewidth": 0,
              "ticks": ""
             }
            },
            "type": "parcoords"
           }
          ],
          "pie": [
           {
            "automargin": true,
            "type": "pie"
           }
          ],
          "scatter": [
           {
            "fillpattern": {
             "fillmode": "overlay",
             "size": 10,
             "solidity": 0.2
            },
            "type": "scatter"
           }
          ],
          "scatter3d": [
           {
            "line": {
             "colorbar": {
              "outlinewidth": 0,
              "ticks": ""
             }
            },
            "marker": {
             "colorbar": {
              "outlinewidth": 0,
              "ticks": ""
             }
            },
            "type": "scatter3d"
           }
          ],
          "scattercarpet": [
           {
            "marker": {
             "colorbar": {
              "outlinewidth": 0,
              "ticks": ""
             }
            },
            "type": "scattercarpet"
           }
          ],
          "scattergeo": [
           {
            "marker": {
             "colorbar": {
              "outlinewidth": 0,
              "ticks": ""
             }
            },
            "type": "scattergeo"
           }
          ],
          "scattergl": [
           {
            "marker": {
             "colorbar": {
              "outlinewidth": 0,
              "ticks": ""
             }
            },
            "type": "scattergl"
           }
          ],
          "scattermap": [
           {
            "marker": {
             "colorbar": {
              "outlinewidth": 0,
              "ticks": ""
             }
            },
            "type": "scattermap"
           }
          ],
          "scattermapbox": [
           {
            "marker": {
             "colorbar": {
              "outlinewidth": 0,
              "ticks": ""
             }
            },
            "type": "scattermapbox"
           }
          ],
          "scatterpolar": [
           {
            "marker": {
             "colorbar": {
              "outlinewidth": 0,
              "ticks": ""
             }
            },
            "type": "scatterpolar"
           }
          ],
          "scatterpolargl": [
           {
            "marker": {
             "colorbar": {
              "outlinewidth": 0,
              "ticks": ""
             }
            },
            "type": "scatterpolargl"
           }
          ],
          "scatterternary": [
           {
            "marker": {
             "colorbar": {
              "outlinewidth": 0,
              "ticks": ""
             }
            },
            "type": "scatterternary"
           }
          ],
          "surface": [
           {
            "colorbar": {
             "outlinewidth": 0,
             "ticks": ""
            },
            "colorscale": [
             [
              0,
              "#0d0887"
             ],
             [
              0.1111111111111111,
              "#46039f"
             ],
             [
              0.2222222222222222,
              "#7201a8"
             ],
             [
              0.3333333333333333,
              "#9c179e"
             ],
             [
              0.4444444444444444,
              "#bd3786"
             ],
             [
              0.5555555555555556,
              "#d8576b"
             ],
             [
              0.6666666666666666,
              "#ed7953"
             ],
             [
              0.7777777777777778,
              "#fb9f3a"
             ],
             [
              0.8888888888888888,
              "#fdca26"
             ],
             [
              1,
              "#f0f921"
             ]
            ],
            "type": "surface"
           }
          ],
          "table": [
           {
            "cells": {
             "fill": {
              "color": "#EBF0F8"
             },
             "line": {
              "color": "white"
             }
            },
            "header": {
             "fill": {
              "color": "#C8D4E3"
             },
             "line": {
              "color": "white"
             }
            },
            "type": "table"
           }
          ]
         },
         "layout": {
          "annotationdefaults": {
           "arrowcolor": "#2a3f5f",
           "arrowhead": 0,
           "arrowwidth": 1
          },
          "autotypenumbers": "strict",
          "coloraxis": {
           "colorbar": {
            "outlinewidth": 0,
            "ticks": ""
           }
          },
          "colorscale": {
           "diverging": [
            [
             0,
             "#8e0152"
            ],
            [
             0.1,
             "#c51b7d"
            ],
            [
             0.2,
             "#de77ae"
            ],
            [
             0.3,
             "#f1b6da"
            ],
            [
             0.4,
             "#fde0ef"
            ],
            [
             0.5,
             "#f7f7f7"
            ],
            [
             0.6,
             "#e6f5d0"
            ],
            [
             0.7,
             "#b8e186"
            ],
            [
             0.8,
             "#7fbc41"
            ],
            [
             0.9,
             "#4d9221"
            ],
            [
             1,
             "#276419"
            ]
           ],
           "sequential": [
            [
             0,
             "#0d0887"
            ],
            [
             0.1111111111111111,
             "#46039f"
            ],
            [
             0.2222222222222222,
             "#7201a8"
            ],
            [
             0.3333333333333333,
             "#9c179e"
            ],
            [
             0.4444444444444444,
             "#bd3786"
            ],
            [
             0.5555555555555556,
             "#d8576b"
            ],
            [
             0.6666666666666666,
             "#ed7953"
            ],
            [
             0.7777777777777778,
             "#fb9f3a"
            ],
            [
             0.8888888888888888,
             "#fdca26"
            ],
            [
             1,
             "#f0f921"
            ]
           ],
           "sequentialminus": [
            [
             0,
             "#0d0887"
            ],
            [
             0.1111111111111111,
             "#46039f"
            ],
            [
             0.2222222222222222,
             "#7201a8"
            ],
            [
             0.3333333333333333,
             "#9c179e"
            ],
            [
             0.4444444444444444,
             "#bd3786"
            ],
            [
             0.5555555555555556,
             "#d8576b"
            ],
            [
             0.6666666666666666,
             "#ed7953"
            ],
            [
             0.7777777777777778,
             "#fb9f3a"
            ],
            [
             0.8888888888888888,
             "#fdca26"
            ],
            [
             1,
             "#f0f921"
            ]
           ]
          },
          "colorway": [
           "#636efa",
           "#EF553B",
           "#00cc96",
           "#ab63fa",
           "#FFA15A",
           "#19d3f3",
           "#FF6692",
           "#B6E880",
           "#FF97FF",
           "#FECB52"
          ],
          "font": {
           "color": "#2a3f5f"
          },
          "geo": {
           "bgcolor": "white",
           "lakecolor": "white",
           "landcolor": "white",
           "showlakes": true,
           "showland": true,
           "subunitcolor": "#C8D4E3"
          },
          "hoverlabel": {
           "align": "left"
          },
          "hovermode": "closest",
          "mapbox": {
           "style": "light"
          },
          "paper_bgcolor": "white",
          "plot_bgcolor": "white",
          "polar": {
           "angularaxis": {
            "gridcolor": "#EBF0F8",
            "linecolor": "#EBF0F8",
            "ticks": ""
           },
           "bgcolor": "white",
           "radialaxis": {
            "gridcolor": "#EBF0F8",
            "linecolor": "#EBF0F8",
            "ticks": ""
           }
          },
          "scene": {
           "xaxis": {
            "backgroundcolor": "white",
            "gridcolor": "#DFE8F3",
            "gridwidth": 2,
            "linecolor": "#EBF0F8",
            "showbackground": true,
            "ticks": "",
            "zerolinecolor": "#EBF0F8"
           },
           "yaxis": {
            "backgroundcolor": "white",
            "gridcolor": "#DFE8F3",
            "gridwidth": 2,
            "linecolor": "#EBF0F8",
            "showbackground": true,
            "ticks": "",
            "zerolinecolor": "#EBF0F8"
           },
           "zaxis": {
            "backgroundcolor": "white",
            "gridcolor": "#DFE8F3",
            "gridwidth": 2,
            "linecolor": "#EBF0F8",
            "showbackground": true,
            "ticks": "",
            "zerolinecolor": "#EBF0F8"
           }
          },
          "shapedefaults": {
           "line": {
            "color": "#2a3f5f"
           }
          },
          "ternary": {
           "aaxis": {
            "gridcolor": "#DFE8F3",
            "linecolor": "#A2B1C6",
            "ticks": ""
           },
           "baxis": {
            "gridcolor": "#DFE8F3",
            "linecolor": "#A2B1C6",
            "ticks": ""
           },
           "bgcolor": "white",
           "caxis": {
            "gridcolor": "#DFE8F3",
            "linecolor": "#A2B1C6",
            "ticks": ""
           }
          },
          "title": {
           "x": 0.05
          },
          "xaxis": {
           "automargin": true,
           "gridcolor": "#EBF0F8",
           "linecolor": "#EBF0F8",
           "ticks": "",
           "title": {
            "standoff": 15
           },
           "zerolinecolor": "#EBF0F8",
           "zerolinewidth": 2
          },
          "yaxis": {
           "automargin": true,
           "gridcolor": "#EBF0F8",
           "linecolor": "#EBF0F8",
           "ticks": "",
           "title": {
            "standoff": 15
           },
           "zerolinecolor": "#EBF0F8",
           "zerolinewidth": 2
          }
         }
        },
        "title": {
         "text": "Distribusi Kategori Penggunaan Sepeda Harian"
        },
        "xaxis": {
         "anchor": "y",
         "categoryarray": [
          "Sangat Rendah",
          "Rendah",
          "Sedang",
          "Tinggi",
          null
         ],
         "categoryorder": "array",
         "domain": [
          0,
          1
         ],
         "title": {
          "text": "Kategori Penggunaan"
         }
        },
        "yaxis": {
         "anchor": "x",
         "domain": [
          0,
          1
         ],
         "title": {
          "text": "count"
         }
        }
       }
      }
     },
     "metadata": {},
     "output_type": "display_data"
    },
    {
     "data": {
      "image/png": "[encoded data removed]",
      "text/plain": [
       "<Figure size 800x600 with 2 Axes>"
      ]
     },
     "metadata": {},
     "output_type": "display_data"
    }
   ],
   "source": [
    "# Clustering manual dengan binning\n",
    "bins = [0, 2000, 4000, 6000, 8000]\n",
    "labels = ['Sangat Rendah', 'Rendah', 'Sedang', 'Tinggi']\n",
    "day_df['usage_category'] = pd.cut(day_df['cnt'], bins=bins, labels=labels, include_lowest=True)\n",
    "\n",
    "# Visualisasi distribusi kategori\n",
    "fig = px.histogram(day_df, \n",
    "                   x='usage_category', \n",
    "                   title='Distribusi Kategori Penggunaan Sepeda Harian',\n",
    "                   labels={'usage_category': 'Kategori Penggunaan', 'count': 'Jumlah Hari'},\n",
    "                   color='usage_category',\n",
    "                   color_discrete_sequence=px.colors.sequential.Plasma)\n",
    "fig.update_layout(bargap=0.1, template='plotly_white')\n",
    "fig.show()\n",
    "\n",
    "# Analisis korelasi\n",
    "correlation = day_df[['temp_celsius', 'hum', 'windspeed', 'cnt']].corr()\n",
    "plt.figure(figsize=(8, 6))\n",
    "sns.heatmap(correlation, annot=True, cmap='coolwarm', vmin=-1, vmax=1, center=0)\n",
    "plt.title('Matriks Korelasi: Faktor Lingkungan vs Penyewaan', fontsize=14)\n",
    "plt.show()"
   ]
  },
  {
   "cell_type": "markdown",
   "metadata": {},
   "source": [
    "## Kesimpulan dan Rekomendasi\n",
    "\n",
    "Berdasarkan analisis yang dilakukan, berikut adalah temuan utama:\n",
    "1. **Pengaruh Cuaca**: \n",
    "   - Cuaca cerah meningkatkan penyewaan secara signifikan (rata-rata > 4000), sedangkan hujan berat menurunkan penyewaan drastis (< 1000).\n",
    "   - Variabilitas penyewaan lebih tinggi saat cuaca berawan, menunjukkan ketidakpastian pengguna.\n",
    "2. **Pola Hari dan Jam**: \n",
    "   - Penyewaan tertinggi terjadi pada jam sibuk (08.00 dan 17.00-18.00) di hari kerja, mengindikasikan penggunaan untuk commuting.\n",
    "   - Akhir pekan menunjukkan pola yang lebih merata sepanjang hari.\n",
    "3. **Analisis Lanjutan**: \n",
    "   - Sebagian besar hari berada pada kategori \"Sedang\" (4000-6000 penyewaan).\n",
    "   - Suhu memiliki korelasi positif sedang (0.63) dengan penyewaan, sedangkan kelembapan memiliki korelasi negatif lemah (-0.32).\n",
    "\n",
    "**Rekomendasi**:\n",
    "- Tingkatkan ketersediaan sepeda saat cuaca cerah dan jam sibuk hari kerja.\n",
    "- Pertimbangkan promosi di hari dengan cuaca buruk untuk meningkatkan penggunaan."
   ]
  }
 ],
 "metadata": {
  "kernelspec": {
   "display_name": "venv",
   "language": "python",
   "name": "python3"
  },
  "language_info": {
   "codemirror_mode": {
    "name": "ipython",
    "version": 3
   },
   "file_extension": ".py",
   "mimetype": "text/x-python",
   "name": "python",
   "nbconvert_exporter": "python",
   "pygments_lexer": "ipython3",
   "version": "3.13.1"
  }
 },
 "nbformat": 4,
 "nbformat_minor": 2
}
